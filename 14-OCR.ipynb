{
 "cells": [
  {
   "cell_type": "markdown",
   "metadata": {},
   "source": [
    "# 14. Image classification by machine learning: Optical text recognition"
   ]
  },
  {
   "cell_type": "markdown",
   "metadata": {},
   "source": [
    "There are different types of machine learning. In some cases, like in the pixel classification task, the algorithm does the classification on its own by trying to optimize groups according to a given rule (unsupervised). In other cases one has to feed the algorithm with a set of annotated examples to train it (supervised). Here we are going to train an ML algorithm to recognize digits. Therefore the first things that we need is a good set of annotated examples. Luckily, since this is a \"popular\" problem, one can find such datasets on-line. In general, this is not the case, and one has to manually create such a dataset. Then one can either decide on a set of features that the algorithm has to use for learning or let the algorithm define those itself. Here we look at the first case, and we will look at the second one in the following chapters.\n",
    "\n",
    "Note that this notebooks does not present a complete OCR solution. The goal is rather to show the underlying principles of machine learning methods used for OCR."
   ]
  },
  {
   "cell_type": "code",
   "execution_count": 16,
   "metadata": {},
   "outputs": [
    {
     "data": {
      "text/plain": [
       "<Figure size 432x288 with 0 Axes>"
      ]
     },
     "metadata": {},
     "output_type": "display_data"
    }
   ],
   "source": [
    "import glob\n",
    "import numpy as np\n",
    "import matplotlib.pyplot as plt\n",
    "plt.gray()\n",
    "import pandas as pd\n",
    "import skimage\n",
    "import skimage.feature\n",
    "import skimage.io"
   ]
  },
  {
   "cell_type": "markdown",
   "metadata": {},
   "source": [
    "## 14.1 Exploring the dataset"
   ]
  },
  {
   "cell_type": "markdown",
   "metadata": {},
   "source": [
    "We found a good dataset [here](http://www.ee.surrey.ac.uk/CVSSP/demos/chars74k/) and downloaded it. Let's first have a look at it."
   ]
  },
  {
   "cell_type": "markdown",
   "metadata": {},
   "source": [
    "We have a folder with 62 sub-folders corresponding to digits and lower and upper-case characters:"
   ]
  },
  {
   "cell_type": "code",
   "execution_count": 12,
   "metadata": {},
   "outputs": [
    {
     "name": "stdout",
     "output_type": "stream",
     "text": [
      "['Data/Fonts/English/Fnt/Sample001' 'Data/Fonts/English/Fnt/Sample002'\n",
      " 'Data/Fonts/English/Fnt/Sample003' 'Data/Fonts/English/Fnt/Sample004'\n",
      " 'Data/Fonts/English/Fnt/Sample005' 'Data/Fonts/English/Fnt/Sample006'\n",
      " 'Data/Fonts/English/Fnt/Sample007' 'Data/Fonts/English/Fnt/Sample008'\n",
      " 'Data/Fonts/English/Fnt/Sample009' 'Data/Fonts/English/Fnt/Sample010'\n",
      " 'Data/Fonts/English/Fnt/Sample011' 'Data/Fonts/English/Fnt/Sample012'\n",
      " 'Data/Fonts/English/Fnt/Sample013' 'Data/Fonts/English/Fnt/Sample014'\n",
      " 'Data/Fonts/English/Fnt/Sample015' 'Data/Fonts/English/Fnt/Sample016'\n",
      " 'Data/Fonts/English/Fnt/Sample017' 'Data/Fonts/English/Fnt/Sample018'\n",
      " 'Data/Fonts/English/Fnt/Sample019' 'Data/Fonts/English/Fnt/Sample020'\n",
      " 'Data/Fonts/English/Fnt/Sample021' 'Data/Fonts/English/Fnt/Sample022'\n",
      " 'Data/Fonts/English/Fnt/Sample023' 'Data/Fonts/English/Fnt/Sample024'\n",
      " 'Data/Fonts/English/Fnt/Sample025' 'Data/Fonts/English/Fnt/Sample026'\n",
      " 'Data/Fonts/English/Fnt/Sample027' 'Data/Fonts/English/Fnt/Sample028'\n",
      " 'Data/Fonts/English/Fnt/Sample029' 'Data/Fonts/English/Fnt/Sample030'\n",
      " 'Data/Fonts/English/Fnt/Sample031' 'Data/Fonts/English/Fnt/Sample032'\n",
      " 'Data/Fonts/English/Fnt/Sample033' 'Data/Fonts/English/Fnt/Sample034'\n",
      " 'Data/Fonts/English/Fnt/Sample035' 'Data/Fonts/English/Fnt/Sample036'\n",
      " 'Data/Fonts/English/Fnt/Sample037' 'Data/Fonts/English/Fnt/Sample038'\n",
      " 'Data/Fonts/English/Fnt/Sample039' 'Data/Fonts/English/Fnt/Sample040'\n",
      " 'Data/Fonts/English/Fnt/Sample041' 'Data/Fonts/English/Fnt/Sample042'\n",
      " 'Data/Fonts/English/Fnt/Sample043' 'Data/Fonts/English/Fnt/Sample044'\n",
      " 'Data/Fonts/English/Fnt/Sample045' 'Data/Fonts/English/Fnt/Sample046'\n",
      " 'Data/Fonts/English/Fnt/Sample047' 'Data/Fonts/English/Fnt/Sample048'\n",
      " 'Data/Fonts/English/Fnt/Sample049' 'Data/Fonts/English/Fnt/Sample050'\n",
      " 'Data/Fonts/English/Fnt/Sample051' 'Data/Fonts/English/Fnt/Sample052'\n",
      " 'Data/Fonts/English/Fnt/Sample053' 'Data/Fonts/English/Fnt/Sample054'\n",
      " 'Data/Fonts/English/Fnt/Sample055' 'Data/Fonts/English/Fnt/Sample056'\n",
      " 'Data/Fonts/English/Fnt/Sample057' 'Data/Fonts/English/Fnt/Sample058'\n",
      " 'Data/Fonts/English/Fnt/Sample059' 'Data/Fonts/English/Fnt/Sample060'\n",
      " 'Data/Fonts/English/Fnt/Sample061' 'Data/Fonts/English/Fnt/Sample062']\n"
     ]
    }
   ],
   "source": [
    "data_path = 'Data/Fonts/English/Fnt/'\n",
    "\n",
    "samples = np.sort(glob.glob(data_path+'*'))\n",
    "print(samples)"
   ]
  },
  {
   "cell_type": "markdown",
   "metadata": {},
   "source": [
    "Let's check the contents by plotting the first 5 images of a folder:"
   ]
  },
  {
   "cell_type": "code",
   "execution_count": 13,
   "metadata": {},
   "outputs": [],
   "source": [
    "files = glob.glob(samples[7]+'/*.png')\n"
   ]
  },
  {
   "cell_type": "code",
   "execution_count": 17,
   "metadata": {},
   "outputs": [
    {
     "data": {
      "image/png": "[encoded data removed]",
      "text/plain": [
       "<Figure size 1080x1080 with 1 Axes>"
      ]
     },
     "metadata": {
      "needs_background": "light"
     },
     "output_type": "display_data"
    },
    {
     "data": {
      "image/png": "[encoded data removed]",
      "text/plain": [
       "<Figure size 432x288 with 1 Axes>"
      ]
     },
     "metadata": {
      "needs_background": "light"
     },
     "output_type": "display_data"
    },
    {
     "data": {
      "image/png": "[encoded data removed]",
      "text/plain": [
       "<Figure size 432x288 with 1 Axes>"
      ]
     },
     "metadata": {
      "needs_background": "light"
     },
     "output_type": "display_data"
    },
    {
     "data": {
      "image/png": "[encoded data removed]",
      "text/plain": [
       "<Figure size 432x288 with 1 Axes>"
      ]
     },
     "metadata": {
      "needs_background": "light"
     },
     "output_type": "display_data"
    },
    {
     "data": {
      "image/png": "[encoded data removed]",
      "text/plain": [
       "<Figure size 432x288 with 1 Axes>"
      ]
     },
     "metadata": {
      "needs_background": "light"
     },
     "output_type": "display_data"
    },
    {
     "data": {
      "image/png": "[encoded data removed]",
      "text/plain": [
       "<Figure size 432x288 with 1 Axes>"
      ]
     },
     "metadata": {
      "needs_background": "light"
     },
     "output_type": "display_data"
    },
    {
     "data": {
      "image/png": "[encoded data removed]",
      "text/plain": [
       "<Figure size 432x288 with 1 Axes>"
      ]
     },
     "metadata": {
      "needs_background": "light"
     },
     "output_type": "display_data"
    },
    {
     "data": {
      "image/png": "[encoded data removed]",
      "text/plain": [
       "<Figure size 432x288 with 1 Axes>"
      ]
     },
     "metadata": {
      "needs_background": "light"
     },
     "output_type": "display_data"
    },
    {
     "data": {
      "image/png": "[encoded data removed]",
      "text/plain": [
       "<Figure size 432x288 with 1 Axes>"
      ]
     },
     "metadata": {
      "needs_background": "light"
     },
     "output_type": "display_data"
    },
    {
     "data": {
      "image/png": "[encoded data removed]",
      "text/plain": [
       "<Figure size 432x288 with 1 Axes>"
      ]
     },
     "metadata": {
      "needs_background": "light"
     },
     "output_type": "display_data"
    }
   ],
   "source": [
    "plt.figure(figsize=(15,15))\n",
    "for i in range(10):\n",
    "    plt.subplot(1,10,i+1)\n",
    "    image = skimage.io.imread(files[i])\n",
    "    plt.imshow(image)\n",
    "    plt.show()"
   ]
  },
  {
   "cell_type": "markdown",
   "metadata": {},
   "source": [
    "So we have samples of each character written with different fonts and types (italic, bold)."
   ]
  },
  {
   "cell_type": "markdown",
   "metadata": {},
   "source": [
    "## 14.2 Classifying digits"
   ]
  },
  {
   "cell_type": "markdown",
   "metadata": {},
   "source": [
    "We are first going to try to classify digits. Our goal is to be able to pass an image of the type shown above to our ML algorithm so that the latter can say what digit is present in that image.\n",
    "\n",
    "First, we have to decide what information the algorithm should use to make that decision. The simplest thing to do is to just say that each pixel is a \"feature\", and thus to use a flattened version of each image as feature space.\n",
    "\n",
    "So that the process is a bit faster we are going to rescale all the images to 32x32 pixels so that we have $32^2$ features."
   ]
  },
  {
   "cell_type": "markdown",
   "metadata": {},
   "source": [
    "### 14.2.1 Loading and scaling images\n",
    "\n",
    "For each digit, we load 50 images by randomly selecting them. We rescale them and reshape them in a single comprehension list. Let's see what happens for one digit:"
   ]
  },
  {
   "cell_type": "code",
   "execution_count": 239,
   "metadata": {},
   "outputs": [],
   "source": [
    "data = [np.reshape((skimage.transform.rescale(skimage.io.imread(files[x]),1/4,order = 1)>0.1).astype(np.uint8),32**2) \n",
    "        for x in np.random.choice(np.arange(len(files)),10,replace=False)]"
   ]
  },
  {
   "cell_type": "code",
   "execution_count": 240,
   "metadata": {},
   "outputs": [
    {
     "data": {
      "image/png": "[encoded data removed]",
      "text/plain": [
       "<Figure size 432x288 with 1 Axes>"
      ]
     },
     "metadata": {
      "needs_background": "light"
     },
     "output_type": "display_data"
    }
   ],
   "source": [
    "plt.imshow(np.reshape(data[2],(32,32)),cmap = 'gray')\n",
    "plt.show()"
   ]
  },
  {
   "cell_type": "markdown",
   "metadata": {},
   "source": [
    "Now let's do this for all digits and aggregate all these data into ```all_data```:"
   ]
  },
  {
   "cell_type": "code",
   "execution_count": 242,
   "metadata": {},
   "outputs": [],
   "source": [
    "num_samples = 500\n",
    "\n",
    "all_data = []\n",
    "for ind, s in enumerate(samples[0:10]):\n",
    "    files = glob.glob(s+'/*.png')\n",
    "    \n",
    "    data = np.array([np.reshape((skimage.transform.rescale(skimage.io.imread(files[x]),1/4)>0.1).astype(np.uint8),32**2) \n",
    "        for x in np.random.choice(np.arange(len(files)),num_samples,replace=False)])\n",
    "    \n",
    "    all_data.append(data)\n"
   ]
  },
  {
   "cell_type": "markdown",
   "metadata": {},
   "source": [
    "Now we concatenate all these data into one single matrix:"
   ]
  },
  {
   "cell_type": "code",
   "execution_count": 243,
   "metadata": {},
   "outputs": [],
   "source": [
    "data = np.concatenate(all_data,axis = 0)"
   ]
  },
  {
   "cell_type": "code",
   "execution_count": 244,
   "metadata": {},
   "outputs": [
    {
     "data": {
      "text/plain": [
       "(5000, 1024)"
      ]
     },
     "execution_count": 244,
     "metadata": {},
     "output_type": "execute_result"
    }
   ],
   "source": [
    "data.shape"
   ]
  },
  {
   "cell_type": "markdown",
   "metadata": {},
   "source": [
    "### 14.2.2 Creating categories"
   ]
  },
  {
   "cell_type": "markdown",
   "metadata": {},
   "source": [
    "We have 50 examples for 10 digits and each example has 1024 features. We also need to create an array that contains the information \"what digit is present at each row of the ```data``` array. We have 500 times a list of each digit:"
   ]
  },
  {
   "cell_type": "code",
   "execution_count": 245,
   "metadata": {},
   "outputs": [],
   "source": [
    "cats = [str(i) for i in range(len(all_data))]\n",
    "category = np.concatenate([[cats[i] for j in range(num_samples)] for i in range(len(cats))])"
   ]
  },
  {
   "cell_type": "code",
   "execution_count": 246,
   "metadata": {},
   "outputs": [
    {
     "data": {
      "text/plain": [
       "array(['0', '0', '0', ..., '9', '9', '9'], dtype='<U1')"
      ]
     },
     "execution_count": 246,
     "metadata": {},
     "output_type": "execute_result"
    }
   ],
   "source": [
    "category"
   ]
  },
  {
   "cell_type": "markdown",
   "metadata": {},
   "source": [
    "### 14.2.3 Running the ML algorithm"
   ]
  },
  {
   "cell_type": "markdown",
   "metadata": {},
   "source": [
    "Now we are ready to use our dataset of features and our corresponding list of categories to train a classifier. We are going to use here a Random Forest classifier implement in scikit-learn:"
   ]
  },
  {
   "cell_type": "code",
   "execution_count": 247,
   "metadata": {},
   "outputs": [],
   "source": [
    "from sklearn.model_selection import train_test_split\n",
    "from sklearn.ensemble import RandomForestClassifier\n",
    "from sklearn import metrics\n",
    "from sklearn.metrics import confusion_matrix"
   ]
  },
  {
   "cell_type": "markdown",
   "metadata": {},
   "source": [
    "First we have to split the dataset into a training and a testing dataset. It is very important to test the classifier on data that have not been seen previously by it!"
   ]
  },
  {
   "cell_type": "code",
   "execution_count": 248,
   "metadata": {},
   "outputs": [],
   "source": [
    "Xtrain, Xtest, ytrain, ytest = train_test_split(data, category, random_state=0)"
   ]
  },
  {
   "cell_type": "markdown",
   "metadata": {},
   "source": [
    "Now we can do the actual learning:"
   ]
  },
  {
   "cell_type": "code",
   "execution_count": 249,
   "metadata": {},
   "outputs": [
    {
     "data": {
      "text/plain": [
       "RandomForestClassifier(bootstrap=True, ccp_alpha=0.0, class_weight=None,\n",
       "                       criterion='gini', max_depth=None, max_features='auto',\n",
       "                       max_leaf_nodes=None, max_samples=None,\n",
       "                       min_impurity_decrease=0.0, min_impurity_split=None,\n",
       "                       min_samples_leaf=1, min_samples_split=2,\n",
       "                       min_weight_fraction_leaf=0.0, n_estimators=1000,\n",
       "                       n_jobs=None, oob_score=False, random_state=None,\n",
       "                       verbose=0, warm_start=False)"
      ]
     },
     "execution_count": 249,
     "metadata": {},
     "output_type": "execute_result"
    }
   ],
   "source": [
    "model = RandomForestClassifier(n_estimators=1000)\n",
    "model.fit(Xtrain, ytrain)"
   ]
  },
  {
   "cell_type": "markdown",
   "metadata": {},
   "source": [
    "Finally we can verify the predictions on the test dataset. The predict function returns a list of the category to which each testing sample has been assigned."
   ]
  },
  {
   "cell_type": "code",
   "execution_count": 250,
   "metadata": {},
   "outputs": [],
   "source": [
    "ypred = model.predict(Xtest)"
   ]
  },
  {
   "cell_type": "code",
   "execution_count": 251,
   "metadata": {},
   "outputs": [
    {
     "data": {
      "text/plain": [
       "array(['0', '7', '9', ..., '0', '6', '4'], dtype='<U1')"
      ]
     },
     "execution_count": 251,
     "metadata": {},
     "output_type": "execute_result"
    }
   ],
   "source": [
    "ypred"
   ]
  },
  {
   "cell_type": "markdown",
   "metadata": {},
   "source": [
    "We can look at a few examples:"
   ]
  },
  {
   "cell_type": "code",
   "execution_count": 252,
   "metadata": {},
   "outputs": [
    {
     "data": {
      "image/png": "[encoded data removed]",
      "text/plain": [
       "<Figure size 1080x720 with 10 Axes>"
      ]
     },
     "metadata": {
      "needs_background": "light"
     },
     "output_type": "display_data"
    }
   ],
   "source": [
    "fig, ax = plt.subplots(1, 10, figsize = (15,10))\n",
    "for x in range(10):\n",
    "    ax[x].imshow(np.reshape(Xtest[x],(32,32)),cmap='gray')\n",
    "    ax[x].set_title(ypred[x])\n",
    "plt.show()"
   ]
  },
  {
   "cell_type": "markdown",
   "metadata": {},
   "source": [
    "In order to get a more comprehensive view, we can look at some statistics:"
   ]
  },
  {
   "cell_type": "code",
   "execution_count": 253,
   "metadata": {},
   "outputs": [
    {
     "name": "stdout",
     "output_type": "stream",
     "text": [
      "              precision    recall  f1-score   support\n",
      "\n",
      "           0       0.92      0.98      0.95       111\n",
      "           1       0.95      0.83      0.88       144\n",
      "           2       0.97      0.94      0.96       125\n",
      "           3       0.88      0.94      0.91       111\n",
      "           4       0.88      0.93      0.90       108\n",
      "           5       0.91      0.93      0.92       136\n",
      "           6       0.93      0.94      0.93       114\n",
      "           7       0.94      0.87      0.90       139\n",
      "           8       0.91      0.97      0.94       131\n",
      "           9       0.95      0.96      0.96       131\n",
      "\n",
      "    accuracy                           0.92      1250\n",
      "   macro avg       0.92      0.93      0.92      1250\n",
      "weighted avg       0.93      0.92      0.92      1250\n",
      "\n"
     ]
    }
   ],
   "source": [
    "print(metrics.classification_report(ypred, ytest))"
   ]
  },
  {
   "cell_type": "markdown",
   "metadata": {},
   "source": [
    "We see that our very simple features, basically the pixel positions, and 50 examples per class are sufficient to reach a very good result."
   ]
  },
  {
   "cell_type": "markdown",
   "metadata": {},
   "source": [
    "## 14.3 Using the classifier on \"real\" data"
   ]
  },
  {
   "cell_type": "markdown",
   "metadata": {},
   "source": [
    "Let's try to segment a real-life case: an image of a digital screen:"
   ]
  },
  {
   "cell_type": "code",
   "execution_count": 254,
   "metadata": {},
   "outputs": [],
   "source": [
    "jpg = skimage.io.imread('illustrations/digit.jpg')"
   ]
  },
  {
   "cell_type": "code",
   "execution_count": 255,
   "metadata": {},
   "outputs": [
    {
     "data": {
      "image/png": "[encoded data removed]",
      "text/plain": [
       "<Figure size 432x288 with 1 Axes>"
      ]
     },
     "metadata": {
      "needs_background": "light"
     },
     "output_type": "display_data"
    }
   ],
   "source": [
    "plt.imshow(jpg, cmap = 'gray')\n",
    "plt.show()"
   ]
  },
  {
   "cell_type": "markdown",
   "metadata": {},
   "source": [
    "### 14.3.1 Pre-processing"
   ]
  },
  {
   "cell_type": "markdown",
   "metadata": {},
   "source": [
    "We trained our classifier on black and white pictures, so let's first convert the image and create a black and white version using a thresholder:"
   ]
  },
  {
   "cell_type": "code",
   "execution_count": 256,
   "metadata": {},
   "outputs": [],
   "source": [
    "jpg = skimage.color.rgb2gray(jpg)\n",
    "th = skimage.filters.threshold_li(jpg)\n",
    "jpg_th = jpg<th"
   ]
  },
  {
   "cell_type": "code",
   "execution_count": 257,
   "metadata": {},
   "outputs": [
    {
     "data": {
      "image/png": "[encoded data removed]",
      "text/plain": [
       "<Figure size 432x288 with 1 Axes>"
      ]
     },
     "metadata": {
      "needs_background": "light"
     },
     "output_type": "display_data"
    }
   ],
   "source": [
    "plt.imshow(jpg_th);"
   ]
  },
  {
   "cell_type": "markdown",
   "metadata": {},
   "source": [
    "### 14.3.2 Identifying numbers"
   ]
  },
  {
   "cell_type": "markdown",
   "metadata": {},
   "source": [
    "First we need to identify each single number present here in the second row. If we project the image along the horizontal direction, we clearly see an \"empty\" region. By detecting where the steps are, we can isolate the two lines of text:"
   ]
  },
  {
   "cell_type": "code",
   "execution_count": 258,
   "metadata": {},
   "outputs": [
    {
     "data": {
      "image/png": "[encoded data removed]",
      "text/plain": [
       "<Figure size 432x288 with 1 Axes>"
      ]
     },
     "metadata": {
      "needs_background": "light"
     },
     "output_type": "display_data"
    }
   ],
   "source": [
    "plt.plot(np.max(jpg_th,axis = 1));"
   ]
  },
  {
   "cell_type": "code",
   "execution_count": 259,
   "metadata": {},
   "outputs": [],
   "source": [
    "#create projection\n",
    "proj = np.max(jpg_th,axis = 1)\n",
    "#select \"positive\" regions and find their indices\n",
    "regions = proj > 0.5\n",
    "text_indices = np.arange(jpg.shape[0])[regions]\n",
    "#find the steps and split the indices into two groups\n",
    "splits = np.split(text_indices,np.where(np.diff(np.arange(jpg.shape[0])[regions])>1)[0]+1)"
   ]
  },
  {
   "cell_type": "code",
   "execution_count": 260,
   "metadata": {},
   "outputs": [
    {
     "data": {
      "image/png": "[encoded data removed]",
      "text/plain": [
       "<Figure size 432x288 with 1 Axes>"
      ]
     },
     "metadata": {
      "needs_background": "light"
     },
     "output_type": "display_data"
    }
   ],
   "source": [
    "plt.imshow(jpg[splits[1],:],cmap = 'gray')\n",
    "plt.show()"
   ]
  },
  {
   "cell_type": "markdown",
   "metadata": {},
   "source": [
    "To separate each digit we proceed in the same way by projecting along the vertical dimensions:"
   ]
  },
  {
   "cell_type": "code",
   "execution_count": 261,
   "metadata": {},
   "outputs": [],
   "source": [
    "#select line to process\n",
    "line_ind = 1\n",
    "proj2 = np.min(jpg[splits[line_ind],:],axis = 0)\n",
    "regions = proj2 < 0.5\n",
    "text_indices = np.arange(jpg.shape[1])[regions]\n",
    "splits2 = np.split(text_indices,np.where(np.diff(np.arange(jpg.shape[1])[regions])>1)[0]+1)"
   ]
  },
  {
   "cell_type": "markdown",
   "metadata": {},
   "source": [
    "```splits2``` contains all column indices for each digit:"
   ]
  },
  {
   "cell_type": "code",
   "execution_count": 262,
   "metadata": {},
   "outputs": [],
   "source": [
    "characters = [jpg_th[splits[line_ind],x[0]:x[-1]] for x in splits2]"
   ]
  },
  {
   "cell_type": "code",
   "execution_count": 263,
   "metadata": {},
   "outputs": [
    {
     "data": {
      "text/plain": [
       "[(61, 9),\n",
       " (61, 40),\n",
       " (61, 39),\n",
       " (61, 37),\n",
       " (61, 38),\n",
       " (61, 39),\n",
       " (61, 33),\n",
       " (61, 40),\n",
       " (61, 39),\n",
       " (61, 41)]"
      ]
     },
     "execution_count": 263,
     "metadata": {},
     "output_type": "execute_result"
    }
   ],
   "source": [
    "[x.shape for x in characters]"
   ]
  },
  {
   "cell_type": "code",
   "execution_count": 264,
   "metadata": {},
   "outputs": [
    {
     "data": {
      "image/png": "[encoded data removed]",
      "text/plain": [
       "<Figure size 432x288 with 10 Axes>"
      ]
     },
     "metadata": {
      "needs_background": "light"
     },
     "output_type": "display_data"
    }
   ],
   "source": [
    "for ind, x in enumerate(characters):\n",
    "    plt.subplot(1,10, ind+1)\n",
    "    plt.imshow(x)\n",
    "plt.show()"
   ]
  },
  {
   "cell_type": "markdown",
   "metadata": {},
   "source": [
    "### 14.3.3 Rescaling\n",
    "\n",
    "Since we rely on pixels positions as features, we have to make sure that the images we are passing to the classifier are similar to those used for training. Those had on average a height of 24 pixels. So let's rescale:"
   ]
  },
  {
   "cell_type": "code",
   "execution_count": 265,
   "metadata": {},
   "outputs": [],
   "source": [
    "im_re = (skimage.transform.rescale(characters[2],1/(characters[2].shape[0]/24),\n",
    "                                  preserve_range=True, order = 1, anti_aliasing=False)>0.1).astype(np.uint8)"
   ]
  },
  {
   "cell_type": "markdown",
   "metadata": {},
   "source": [
    "Additionally, the images are square and have 32 pixels. So let's pad our images. We do that by filling an empty image with our image at the middle. We also have to make sure that the intensity scale is correct:"
   ]
  },
  {
   "cell_type": "code",
   "execution_count": 270,
   "metadata": {},
   "outputs": [],
   "source": [
    "empty = np.zeros((32,32))\n",
    "empty[int((32-im_re.shape[0])/2):int((32-im_re.shape[0])/2)+im_re.shape[0],\n",
    "     int((32-im_re.shape[1])/2):int((32-im_re.shape[1])/2)+im_re.shape[1]] = im_re\n",
    "empty = empty<0.5\n",
    "\n",
    "to_pass = (1*empty).astype(np.uint8)"
   ]
  },
  {
   "cell_type": "markdown",
   "metadata": {},
   "source": [
    "Finally we can pass this to the classifier:"
   ]
  },
  {
   "cell_type": "code",
   "execution_count": 271,
   "metadata": {},
   "outputs": [
    {
     "data": {
      "image/png": "[encoded data removed]",
      "text/plain": [
       "<Figure size 432x288 with 1 Axes>"
      ]
     },
     "metadata": {
      "needs_background": "light"
     },
     "output_type": "display_data"
    }
   ],
   "source": [
    "ypred = model.predict(np.reshape(to_pass,32**2)[np.newaxis,:])\n",
    "fig,ax = plt.subplots()\n",
    "plt.imshow(to_pass)\n",
    "ax.set_title('Prediction: '+ ypred[0])\n",
    "plt.show()"
   ]
  },
  {
   "cell_type": "markdown",
   "metadata": {},
   "source": [
    "Let's do the same exercise for all digits:"
   ]
  },
  {
   "cell_type": "code",
   "execution_count": 272,
   "metadata": {},
   "outputs": [
    {
     "data": {
      "image/png": "[encoded data removed]",
      "text/plain": [
       "<Figure size 1080x720 with 10 Axes>"
      ]
     },
     "metadata": {
      "needs_background": "light"
     },
     "output_type": "display_data"
    }
   ],
   "source": [
    "fig, ax = plt.subplots(1, 10, figsize = (15,10))\n",
    "for x in range(10):\n",
    "    final_size = 32\n",
    "    \n",
    "    im_re = (skimage.transform.rescale(characters[x],1/(characters[x].shape[0]/24),\n",
    "                                      preserve_range=True, order = 1, anti_aliasing=False)>0.1).astype(np.uint8)\n",
    "    empty = np.zeros((32,32))\n",
    "    empty[int((32-im_re.shape[0])/2):int((32-im_re.shape[0])/2)+im_re.shape[0],\n",
    "         int((32-im_re.shape[1])/2):int((32-im_re.shape[1])/2)+im_re.shape[1]] = im_re\n",
    "    to_pass = empty<0.5\n",
    "\n",
    "    to_pass = (1*to_pass).astype(np.uint8)\n",
    "    ypred = model.predict(np.reshape(to_pass,32**2)[np.newaxis,:])\n",
    "    ax[x].imshow(to_pass)\n",
    "    ax[x].set_title(ypred[0])\n",
    "plt.show()"
   ]
  },
  {
   "cell_type": "markdown",
   "metadata": {},
   "source": [
    "## 14.4 With all characters"
   ]
  },
  {
   "cell_type": "code",
   "execution_count": 274,
   "metadata": {
    "scrolled": true
   },
   "outputs": [
    {
     "data": {
      "text/plain": [
       "RandomForestClassifier(bootstrap=True, ccp_alpha=0.0, class_weight=None,\n",
       "                       criterion='gini', max_depth=None, max_features='auto',\n",
       "                       max_leaf_nodes=None, max_samples=None,\n",
       "                       min_impurity_decrease=0.0, min_impurity_split=None,\n",
       "                       min_samples_leaf=1, min_samples_split=2,\n",
       "                       min_weight_fraction_leaf=0.0, n_estimators=1000,\n",
       "                       n_jobs=None, oob_score=False, random_state=None,\n",
       "                       verbose=0, warm_start=False)"
      ]
     },
     "execution_count": 274,
     "metadata": {},
     "output_type": "execute_result"
    }
   ],
   "source": [
    "num_samples = 100\n",
    "\n",
    "all_data = []\n",
    "for ind, s in enumerate(samples[0:62]):\n",
    "    files = glob.glob(s+'/*.png')\n",
    "    \n",
    "    data = np.array([np.reshape((skimage.transform.rescale(skimage.io.imread(files[x]),1/4)>0.1).astype(np.uint8),32**2) \n",
    "        for x in np.random.choice(np.arange(len(files)),num_samples,replace=False)])\n",
    "    \n",
    "    all_data.append(data)\n",
    "data = np.concatenate(all_data,axis = 0)\n",
    "\n",
    "chars = 'abcdefghijklmnopqrstuvwxyz'\n",
    "cats = [str(i) for i in range(10)]+[i for i in chars.upper()]+[i for i in chars]\n",
    "category = np.concatenate([[cats[i] for j in range(num_samples)] for i in range(len(cats))])\n",
    "\n",
    "Xtrain, Xtest, ytrain, ytest = train_test_split(data, category, random_state=0)\n",
    "\n",
    "model = RandomForestClassifier(n_estimators=1000)\n",
    "model.fit(Xtrain, ytrain)"
   ]
  },
  {
   "cell_type": "code",
   "execution_count": 275,
   "metadata": {},
   "outputs": [
    {
     "name": "stdout",
     "output_type": "stream",
     "text": [
      "              precision    recall  f1-score   support\n",
      "\n",
      "           0       0.61      0.65      0.63        26\n",
      "           1       0.72      0.60      0.65        30\n",
      "           2       0.92      0.92      0.92        24\n",
      "           3       0.82      0.64      0.72        28\n",
      "           4       0.84      0.91      0.87        23\n",
      "           5       0.81      0.93      0.86        27\n",
      "           6       0.90      0.82      0.86        22\n",
      "           7       0.93      0.88      0.90        16\n",
      "           8       0.85      1.00      0.92        28\n",
      "           9       0.76      0.67      0.71        24\n",
      "           A       0.91      0.80      0.85        25\n",
      "           B       0.74      0.81      0.77        21\n",
      "           C       0.67      0.54      0.60        26\n",
      "           D       0.89      0.89      0.89        28\n",
      "           E       0.95      0.77      0.85        26\n",
      "           F       0.55      0.94      0.69        18\n",
      "           G       0.75      0.71      0.73        21\n",
      "           H       0.72      0.86      0.78        21\n",
      "           I       0.56      0.35      0.43        43\n",
      "           J       0.43      0.69      0.53        13\n",
      "           K       0.92      0.83      0.87        29\n",
      "           L       0.70      0.40      0.51        47\n",
      "           M       0.68      0.78      0.72        27\n",
      "           N       0.91      0.80      0.85        25\n",
      "           O       0.52      0.50      0.51        24\n",
      "           P       0.68      0.77      0.72        22\n",
      "           Q       0.77      0.92      0.84        25\n",
      "           R       0.62      0.94      0.75        16\n",
      "           S       0.61      0.67      0.63        30\n",
      "           T       0.79      0.88      0.83        25\n",
      "           U       0.67      0.83      0.74        24\n",
      "           V       0.36      0.53      0.43        15\n",
      "           W       0.50      0.60      0.55        20\n",
      "           X       0.50      0.62      0.56        24\n",
      "           Y       0.82      0.92      0.87        25\n",
      "           Z       0.67      0.64      0.65        25\n",
      "           a       0.48      0.73      0.58        15\n",
      "           b       0.74      0.77      0.75        26\n",
      "           c       0.67      0.48      0.56        25\n",
      "           d       0.57      0.81      0.67        16\n",
      "           e       0.77      0.89      0.83        19\n",
      "           f       0.58      0.58      0.58        26\n",
      "           g       0.65      0.96      0.77        23\n",
      "           h       0.83      0.95      0.88        20\n",
      "           i       0.71      0.83      0.77        24\n",
      "           j       0.96      0.48      0.64        54\n",
      "           k       0.64      0.94      0.76        17\n",
      "           l       0.52      0.41      0.46        29\n",
      "           m       0.77      0.62      0.69        37\n",
      "           n       0.92      0.85      0.88        27\n",
      "           o       0.64      0.60      0.62        30\n",
      "           p       0.68      0.76      0.72        25\n",
      "           q       0.70      0.80      0.74        20\n",
      "           r       0.81      0.85      0.83        26\n",
      "           s       0.40      0.44      0.42        18\n",
      "           t       0.77      0.80      0.78        25\n",
      "           u       0.62      0.60      0.61        25\n",
      "           v       0.65      0.57      0.60        23\n",
      "           w       0.61      0.68      0.64        25\n",
      "           x       0.78      0.58      0.67        31\n",
      "           y       0.88      0.54      0.67        26\n",
      "           z       0.74      0.68      0.71        25\n",
      "\n",
      "    accuracy                           0.71      1550\n",
      "   macro avg       0.71      0.73      0.71      1550\n",
      "weighted avg       0.72      0.71      0.71      1550\n",
      "\n"
     ]
    }
   ],
   "source": [
    "ypred = model.predict(Xtest)\n",
    "print(metrics.classification_report(ypred, ytest))"
   ]
  },
  {
   "cell_type": "code",
   "execution_count": 276,
   "metadata": {},
   "outputs": [
    {
     "data": {
      "image/png": "[encoded data removed]",
      "text/plain": [
       "<Figure size 720x720 with 1 Axes>"
      ]
     },
     "metadata": {
      "needs_background": "light"
     },
     "output_type": "display_data"
    }
   ],
   "source": [
    "mat = confusion_matrix(ytest, ypred)\n",
    "fig, ax = plt.subplots(figsize=(10,10))\n",
    "plt.imshow(mat.T,vmin = 0,vmax = 10)#, square=True, annot=True, fmt='d', cbar=False)\n",
    "plt.xticks(ticks=np.arange(62),labels=cats)\n",
    "plt.yticks(ticks=np.arange(62),labels=cats)\n",
    "plt.xlabel('true label')\n",
    "plt.ylabel('predicted label');"
   ]
  }
 ],
 "metadata": {
  "kernelspec": {
   "display_name": "Python 3",
   "language": "python",
   "name": "python3"
  },
  "language_info": {
   "codemirror_mode": {
    "name": "ipython",
    "version": 3
   },
   "file_extension": ".py",
   "mimetype": "text/x-python",
   "name": "python",
   "nbconvert_exporter": "python",
   "pygments_lexer": "ipython3",
   "version": "3.7.6"
  },
  "toc": {
   "base_numbering": 1,
   "nav_menu": {},
   "number_sections": false,
   "sideBar": true,
   "skip_h1_title": false,
   "title_cell": "Table of Contents",
   "title_sidebar": "Contents",
   "toc_cell": false,
   "toc_position": {},
   "toc_section_display": true,
   "toc_window_display": true
  }
 },
 "nbformat": 4,
 "nbformat_minor": 4
}
